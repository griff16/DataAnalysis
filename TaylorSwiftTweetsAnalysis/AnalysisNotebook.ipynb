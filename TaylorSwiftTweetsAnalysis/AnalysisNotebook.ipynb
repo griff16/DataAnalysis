{
 "metadata": {
  "language_info": {
   "codemirror_mode": {
    "name": "ipython",
    "version": 3
   },
   "file_extension": ".py",
   "mimetype": "text/x-python",
   "name": "python",
   "nbconvert_exporter": "python",
   "pygments_lexer": "ipython3",
   "version": "3.7.7-final"
  },
  "orig_nbformat": 2,
  "kernelspec": {
   "name": "python3",
   "display_name": "Python 3",
   "language": "python"
  }
 },
 "nbformat": 4,
 "nbformat_minor": 2,
 "cells": [
  {
   "cell_type": "code",
   "execution_count": 2,
   "metadata": {},
   "outputs": [
    {
     "output_type": "error",
     "ename": "ModuleNotFoundError",
     "evalue": "No module named 'numpy'",
     "traceback": [
      "\u001b[0;31m---------------------------------------------------------------------------\u001b[0m",
      "\u001b[0;31mModuleNotFoundError\u001b[0m                       Traceback (most recent call last)",
      "\u001b[0;32m<ipython-input-2-43e76462dafd>\u001b[0m in \u001b[0;36m<module>\u001b[0;34m\u001b[0m\n\u001b[1;32m      1\u001b[0m \u001b[0;31m# setup\u001b[0m\u001b[0;34m\u001b[0m\u001b[0;34m\u001b[0m\u001b[0;34m\u001b[0m\u001b[0m\n\u001b[0;32m----> 2\u001b[0;31m \u001b[0;32mimport\u001b[0m \u001b[0mnumpy\u001b[0m \u001b[0;32mas\u001b[0m \u001b[0mnp\u001b[0m \u001b[0;31m# linear algebra\u001b[0m\u001b[0;34m\u001b[0m\u001b[0;34m\u001b[0m\u001b[0m\n\u001b[0m\u001b[1;32m      3\u001b[0m \u001b[0;32mimport\u001b[0m \u001b[0mpandas\u001b[0m \u001b[0;32mas\u001b[0m \u001b[0mpd\u001b[0m \u001b[0;31m# data processing, CSV file I/O (e.g. pd.read_csv)\u001b[0m\u001b[0;34m\u001b[0m\u001b[0;34m\u001b[0m\u001b[0m\n\u001b[1;32m      4\u001b[0m \u001b[0;32mimport\u001b[0m \u001b[0mos\u001b[0m\u001b[0;34m\u001b[0m\u001b[0;34m\u001b[0m\u001b[0m\n\u001b[1;32m      5\u001b[0m \u001b[0;32mimport\u001b[0m \u001b[0mmatplotlib\u001b[0m\u001b[0;34m.\u001b[0m\u001b[0mpyplot\u001b[0m \u001b[0;32mas\u001b[0m \u001b[0mplt\u001b[0m\u001b[0;34m\u001b[0m\u001b[0;34m\u001b[0m\u001b[0m\n",
      "\u001b[0;31mModuleNotFoundError\u001b[0m: No module named 'numpy'"
     ]
    }
   ],
   "source": [
    "# setup\n",
    "import numpy as np # linear algebra\n",
    "import pandas as pd # data processing, CSV file I/O (e.g. pd.read_csv)\n",
    "import os\n",
    "import matplotlib.pyplot as plt\n",
    "import seaborn as sns\n",
    "import datetime\n",
    "\n",
    "pd.plotting.register_matplotlib_converters()\n",
    "%matplotlib inline\n",
    "pd.options.display.max_columns = None\n",
    "pd.options.display.width = None\n",
    "pd.options.display.max_rows = None\n",
    "sns.set_style(\"whitegrid\")\n",
    "    \n",
    "print(\"Setup Complete\")"
   ]
  },
  {
   "source": [
    "# Taylor Swift Behavourial Analysis based on her Tweets\n",
    "## This notebook will answer following questions  \n",
    "\n",
    "1. When does Taylor Swift like to post her status\n",
    "2. How often does she like to post her status\n",
    "3. What type of device does she like to post her status with\n",
    "4. Who's tweets she has replied to"
   ],
   "cell_type": "markdown",
   "metadata": {}
  },
  {
   "cell_type": "code",
   "execution_count": null,
   "metadata": {},
   "outputs": [],
   "source": [
    "df = pd.read_csv('./taylor_swift_tweets.csv').iloc[:, 1:]  # drop the first column\n",
    "df.head()"
   ]
  },
  {
   "cell_type": "code",
   "execution_count": null,
   "metadata": {},
   "outputs": [],
   "source": [
    "# Question 1: When does Taylor Swift like to post her status\n",
    "post_time = df['created_at'].str.split(' ')\n",
    "hour_sr = post_time.str.get(1).str.split(':').str.get(0)  # the hour Taylor Swift post tweets\n",
    "hour_sr = (hour_sr.astype(int) - 8) % 24  # convert to Pacific time assuming she spends time there the most\n",
    "result = pd.DataFrame(hour_sr).groupby('created_at', as_index=False).size()\n",
    "\n",
    "plt.figure(figsize=(15, 5))\n",
    "sns.barplot(x='created_at', y='size', data=result).set_title('Taylor Swfit\\'s tweets posting time distribution')\n",
    "plt.xlabel('tweets posted time (PT)')\n",
    "plt.ylabel('total number of tweets')\n",
    "plt.show()"
   ]
  },
  {
   "cell_type": "code",
   "execution_count": null,
   "metadata": {},
   "outputs": [],
   "source": [
    "\n",
    "date_sr = post_time.str.get(0)  # the dates Taylor Swift posts tweets\n",
    "date_df = pd.DataFrame(date_sr).groupby('created_at', as_index=False).size().rename(\n",
    "            columns={'size':'number_of_tweets_posted'})\n",
    "\n",
    "date_df['created_at_datetype'] = pd.to_datetime(date_df['created_at'], format='%Y-%m-%d')  # convert created_at to date object to perform arithmetics\n",
    "date_df['days_since_last_tweet'] = [(date_df['created_at_datetype'][i] - date_df['created_at_datetype'][i-1]).days                       \n",
    "    if i >=1 else 0 for i in range(len(date_df['created_at']))]\n",
    "\n",
    "plt.figure(figsize=(30,10))\n",
    "ax = sns.lineplot(data=date_df, x='created_at_datetype', y='days_since_last_tweet').set_title('Taylor Swift\\'s tweets posting frequency')\n",
    "plt.xlabel('Date')\n",
    "plt.ylabel('Days passed since last tweets')\n",
    "plt.show()\n",
    "\n",
    "print('Taylor Swift\\'s overall average posting frequency: {:.2f} (days/tweet)'.format(date_df['days_since_last_tweet'].sum() / date_df['number_of_tweets_posted'].sum()))\n",
    "print('Taylor Swift\\'s 2017/09 - 2019/01 average posting frequency: {:.2f} (days/tweet)'.format(\n",
    "     date_df[date_df['created_at_datetype'] <= datetime.datetime(2019, 1, 1)]['days_since_last_tweet'].sum() / \n",
    "     date_df[date_df['created_at_datetype'] <= datetime.datetime(2019, 1, 1)]['number_of_tweets_posted'].sum()))\n",
    "print('Taylor Swift\\'s 2019/01 - 2021/01 average posting frequency: {:.2f} (days/tweet)\\n'.format(\n",
    "     date_df[date_df['created_at_datetype'] > datetime.datetime(2019, 1, 1)]['days_since_last_tweet'].sum() /\n",
    "     date_df[date_df['created_at_datetype'] > datetime.datetime(2019, 1, 1)]['number_of_tweets_posted'].sum()))\n",
    "print('p.s Taylor Swift\\'s average tweets per day is {:.2f} and average twitter users\\' tweets per day is 4.42\\nsource: https://blog.hubspot.com/blog/tabid/6307/bid/4594/is-22-tweets-per-day-the-optimum.aspx#:~:text=The%20average%20tweets%20per%20day,number%20of%20tweets%20per%20day.'.format(\n",
    "     date_df['number_of_tweets_posted'].sum()/ date_df['days_since_last_tweet'].sum()))"
   ]
  },
  {
   "cell_type": "code",
   "execution_count": null,
   "metadata": {},
   "outputs": [],
   "source": [
    "# Question 3: What type of device does she like to post her status with\n",
    "# Twitter Web App: Tweets from a browser on phones\n",
    "# Twitter Web Client: Tweets from a browser on dektops/laptops\n",
    "# Twitter Media Studio: An easy-to-use platform to manage, measure and monetize your media on Twitter\n",
    "\n",
    "# credits to:https://medium.com/@kvnamipara/a-better-visualisation-of-pie-charts-by-matplotlib-935b7667d77f\n",
    "source_df = df.groupby('source', as_index=False).size().rename(columns={'size': 'times'})\n",
    "fig = plt.figure(figsize=(20,10))\n",
    "colors = ['#ff9999','#66b3ff','#99ff99','#ffcc99']\n",
    "explode = (0.05,0.05,0.05,0.05)\n",
    "g = plt.pie(source_df['times'], labels=source_df['source'], colors=colors, explode=explode, startangle=90, autopct='%1.1f%%')\n",
    "fig.suptitle('Taylor Swift\\'s platform preference', fontsize=20)\n",
    "plt.show()"
   ]
  },
  {
   "cell_type": "code",
   "execution_count": null,
   "metadata": {},
   "outputs": [],
   "source": [
    "# Question 4: Whose tweets she has replied to\n",
    "\n",
    "reply_df = df[df['reply_to_user'].notnull()].groupby('reply_to_user', as_index=False).size().sort_values(by='size', ascending=False)\n",
    "plt.figure(figsize=(6, 12))\n",
    "g = sns.barplot(data=reply_df, x='size', y='reply_to_user', orient='h').set_title('List of users Taylor Swift has replied to')\n",
    "plt.xlabel('replied numbers')\n",
    "plt.ylabel('replied names')\n",
    "\n",
    "plt.show()"
   ]
  }
 ]
}